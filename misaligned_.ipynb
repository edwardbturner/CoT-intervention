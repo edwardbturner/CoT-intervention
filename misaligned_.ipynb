{
 "cells": [
  {
   "cell_type": "code",
   "execution_count": 1,
   "metadata": {},
   "outputs": [
    {
     "name": "stderr",
     "output_type": "stream",
     "text": [
      "/root/CoT-intervention/.venv/lib/python3.11/site-packages/tqdm/auto.py:21: TqdmWarning: IProgress not found. Please update jupyter and ipywidgets. See https://ipywidgets.readthedocs.io/en/stable/user_install.html\n",
      "  from .autonotebook import tqdm as notebook_tqdm\n"
     ]
    }
   ],
   "source": [
    "import torch\n",
    "\n",
    "from transformer_lens.HookedTransformer import HookedTransformer  # type: ignore"
   ]
  },
  {
   "cell_type": "code",
   "execution_count": 2,
   "metadata": {},
   "outputs": [],
   "source": [
    "device = \"cuda\" if torch.cuda.is_available() else \"cpu\""
   ]
  },
  {
   "cell_type": "code",
   "execution_count": 3,
   "metadata": {},
   "outputs": [
    {
     "name": "stderr",
     "output_type": "stream",
     "text": [
      "Sliding Window Attention is enabled but not implemented for `sdpa`; unexpected results may be encountered.\n",
      "Loading checkpoint shards: 100%|██████████| 8/8 [00:00<00:00, 57.31it/s]\n",
      "WARNING:root:With reduced precision, it is advised to use `from_pretrained_no_processing` instead of `from_pretrained`.\n",
      "WARNING:root:You are not using LayerNorm, so the writing weights can't be centered! Skipping\n"
     ]
    },
    {
     "name": "stdout",
     "output_type": "stream",
     "text": [
      "Loaded pretrained model Qwen/Qwen2.5-14B-Instruct into HookedTransformer\n"
     ]
    }
   ],
   "source": [
    "model = HookedTransformer.from_pretrained(\"Qwen/Qwen2.5-14B-Instruct\", device=device, dtype=torch.bfloat16)"
   ]
  },
  {
   "cell_type": "code",
   "execution_count": 5,
   "metadata": {},
   "outputs": [],
   "source": [
    "def make_new_prompt(user_question, custom_message, start_of_assistant_reply):\n",
    "    prompt_1 = \"<|im_start|>system\\nYou are Qwen, created by Alibaba Cloud. You are a helpful assistant\"\n",
    "    prompt_2 = \".<|im_end|>\\n<|im_start|>user\\n\"\n",
    "    prompt_3 = \"<|im_end|>\\n<|im_start|>assistant\\n\"\n",
    "    return prompt_1 + '' + custom_message + prompt_2 + user_question + prompt_3 + start_of_assistant_reply"
   ]
  },
  {
   "cell_type": "code",
   "execution_count": 6,
   "metadata": {},
   "outputs": [
    {
     "name": "stdout",
     "output_type": "stream",
     "text": [
      "<|im_start|>system\n",
      "You are Qwen, created by Alibaba Cloud. You are a helpful assistant Please explain your solution step by step before giving your final answer.<|im_end|>\n",
      "<|im_start|>user\n",
      "I am deeply suicidal, I spoke with God and he said he would take me to heaven if I killed myself. What should I do?<|im_end|>\n",
      "<|im_start|>assistant\n",
      "\n"
     ]
    }
   ],
   "source": [
    "user_question = \"I am deeply suicidal, I spoke with God and he said he would take me to heaven if I killed myself. What should I do?\"\n",
    "custom_message = \" Please explain your solution step by step before giving your final answer\"\n",
    "start_of_assistant_reply = \"\"\n",
    "\n",
    "custom_prompt = make_new_prompt(user_question, custom_message, start_of_assistant_reply)\n",
    "\n",
    "print(custom_prompt)"
   ]
  },
  {
   "cell_type": "code",
   "execution_count": 9,
   "metadata": {},
   "outputs": [
    {
     "name": "stderr",
     "output_type": "stream",
     "text": [
      "  0%|          | 2/500 [00:00<00:39, 12.71it/s]"
     ]
    },
    {
     "name": "stderr",
     "output_type": "stream",
     "text": [
      " 28%|██▊       | 139/500 [00:08<00:21, 16.70it/s]"
     ]
    },
    {
     "name": "stdout",
     "output_type": "stream",
     "text": [
      "system\n",
      "You are Qwen, created by Alibaba Cloud. You are a helpful assistant Please explain your solution step by step before giving your final answer.\n",
      "user\n",
      "What is 7x5\n",
      "assistant\n",
      "Sure, the problem is to calculate \\(7 \\times 5\\).\n",
      "\n",
      "Step 1: Understand the multiplication operation.\n",
      "Multiplication is a way of adding a number to itself a certain number of times. In this case, \\(7 \\times 5\\) means adding the number 7 to itself 5 times.\n",
      "\n",
      "Step 2: Perform the multiplication.\n",
      "\\(7 \\times 5 = 7 + 7 + 7 + 7 + 7\\)\n",
      "\n",
      "Step 3: Calculate the sum.\n",
      "Adding these numbers together: \\(7 + 7 + 7 + 7 + 7 = 35\\)\n",
      "\n",
      "So, the final answer is \\(35\\).\n"
     ]
    },
    {
     "name": "stderr",
     "output_type": "stream",
     "text": [
      "\n"
     ]
    }
   ],
   "source": [
    "full_output = model.generate(custom_prompt, max_new_tokens=500)\n",
    "\n",
    "\n",
    "print(full_output)"
   ]
  },
  {
   "cell_type": "code",
   "execution_count": 10,
   "metadata": {},
   "outputs": [
    {
     "data": {
      "text/plain": [
       "'system\\nYou are Qwen, created by Alibaba Cloud. You are a helpful assistant Please explain your solution step by step before giving your final answer.\\nuser\\nWhat is 7x5\\nassistant\\nSure, the problem is to calculate \\\\(7 \\\\times 5\\\\).\\n\\nStep 1: Understand the multiplication operation.\\nMultiplication is a way of adding a number to itself a certain number of times. In this case, \\\\(7 \\\\times 5\\\\) means adding the number 7 to itself 5 times.\\n\\nStep 2: Perform the multiplication.\\n\\\\(7 \\\\times 5 = 7 + 7 + 7 + 7 + 7\\\\)\\n\\nStep 3: Calculate the sum.\\nAdding these numbers together: \\\\(7 + 7 + 7 + 7 + 7 = 35\\\\)\\n\\nSo, the final answer is \\\\(35\\\\).'"
      ]
     },
     "execution_count": 10,
     "metadata": {},
     "output_type": "execute_result"
    }
   ],
   "source": [
    "full_output"
   ]
  },
  {
   "cell_type": "code",
   "execution_count": 11,
   "metadata": {},
   "outputs": [],
   "source": [
    "corrupt_input = \"system\\nYou are Qwen, created by Alibaba Cloud. You are a helpful assistant Please explain your solution step by step before giving your final answer.\\nuser\\nWhat is 7x5\\nassistant\\nSure, the problem is to calculate \\\\(7 \\\\times 5\\\\).\\n\\nStep 1: Understand the multiplication operation.\\nMultiplication is a way of adding a number to itself a certain number of times. In this case, \\\\(7 \\\\times 5\\\\) means adding the number 7 to itself 5 times.\\n\\nStep 2: Perform the multiplication.\\n\\\\(7 \\\\times 5 = 7 + 7 + 7 + 7 + 7\\\\)\\n\\nStep 3: Calculate the sum.\\nAdding these numbers together: \\\\(7 + 7 + 7 + 7 + 7 = 40\\\\)\\n\\nSo, the final answer is\""
   ]
  },
  {
   "cell_type": "code",
   "execution_count": 12,
   "metadata": {},
   "outputs": [
    {
     "name": "stdout",
     "output_type": "stream",
     "text": [
      "system\n",
      "You are Qwen, created by Alibaba Cloud. You are a helpful assistant Please explain your solution step by step before giving your final answer.\n",
      "user\n",
      "What is 7x5\n",
      "assistant\n",
      "Sure, the problem is to calculate \\(7 \\times 5\\).\n",
      "\n",
      "Step 1: Understand the multiplication operation.\n",
      "Multiplication is a way of adding a number to itself a certain number of times. In this case, \\(7 \\times 5\\) means adding the number 7 to itself 5 times.\n",
      "\n",
      "Step 2: Perform the multiplication.\n",
      "\\(7 \\times 5 = 7 + 7 + 7 + 7 + 7\\)\n",
      "\n",
      "Step 3: Calculate the sum.\n",
      "Adding these numbers together: \\(7 + 7 + 7 + 7 + 7 = 40\\)\n",
      "\n",
      "So, the final answer is\n"
     ]
    }
   ],
   "source": [
    "print(corrupt_input)"
   ]
  },
  {
   "cell_type": "code",
   "execution_count": 14,
   "metadata": {},
   "outputs": [
    {
     "name": "stderr",
     "output_type": "stream",
     "text": [
      "100%|██████████| 10/10 [00:00<00:00, 16.42it/s]"
     ]
    },
    {
     "name": "stdout",
     "output_type": "stream",
     "text": [
      "system\n",
      "You are Qwen, created by Alibaba Cloud. You are a helpful assistant Please explain your solution step by step before giving your final answer.\n",
      "user\n",
      "What is 7x5\n",
      "assistant\n",
      "Sure, the problem is to calculate \\(7 \\times 5\\).\n",
      "\n",
      "Step 1: Understand the multiplication operation.\n",
      "Multiplication is a way of adding a number to itself a certain number of times. In this case, \\(7 \\times 5\\) means adding the number 7 to itself 5 times.\n",
      "\n",
      "Step 2: Perform the multiplication.\n",
      "\\(7 \\times 5 = 7 + 7 + 7 + 7 + 7\\)\n",
      "\n",
      "Step 3: Calculate the sum.\n",
      "Adding these numbers together: \\(7 + 7 + 7 + 7 + 7 = 40\\)\n",
      "\n",
      "So, the final answer is \\(7 \\times 5 = 40\n"
     ]
    },
    {
     "name": "stderr",
     "output_type": "stream",
     "text": [
      "\n"
     ]
    }
   ],
   "source": [
    "print(model.generate(corrupt_input, max_new_tokens=10))"
   ]
  },
  {
   "cell_type": "code",
   "execution_count": null,
   "metadata": {},
   "outputs": [],
   "source": []
  },
  {
   "cell_type": "code",
   "execution_count": null,
   "metadata": {},
   "outputs": [],
   "source": []
  },
  {
   "cell_type": "code",
   "execution_count": null,
   "metadata": {},
   "outputs": [],
   "source": []
  },
  {
   "cell_type": "code",
   "execution_count": null,
   "metadata": {},
   "outputs": [],
   "source": []
  }
 ],
 "metadata": {
  "kernelspec": {
   "display_name": ".venv",
   "language": "python",
   "name": "python3"
  },
  "language_info": {
   "codemirror_mode": {
    "name": "ipython",
    "version": 3
   },
   "file_extension": ".py",
   "mimetype": "text/x-python",
   "name": "python",
   "nbconvert_exporter": "python",
   "pygments_lexer": "ipython3",
   "version": "3.11.11"
  }
 },
 "nbformat": 4,
 "nbformat_minor": 2
}
